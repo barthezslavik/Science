{
 "cells": [
  {
   "cell_type": "code",
   "execution_count": 1,
   "id": "fedfc467",
   "metadata": {},
   "outputs": [
    {
     "name": "stdout",
     "output_type": "stream",
     "text": [
      "13797615896.896387 yr\n"
     ]
    }
   ],
   "source": [
    "# Import the necessary modules from astropy\n",
    "from astropy import units as u\n",
    "from astropy.cosmology import Planck15\n",
    "\n",
    "# Compute the age of the universe using the Planck15 cosmological model\n",
    "age = Planck15.age(0)\n",
    "\n",
    "# Print the age of the universe in years\n",
    "print(age.to(u.year))"
   ]
  },
  {
   "cell_type": "code",
   "execution_count": 2,
   "id": "2e3e6bad",
   "metadata": {},
   "outputs": [
    {
     "name": "stdout",
     "output_type": "stream",
     "text": [
      "13797615896.896387 yr\n"
     ]
    }
   ],
   "source": [
    "print(age.to(u.year))"
   ]
  }
 ],
 "metadata": {
  "kernelspec": {
   "display_name": "Python 3 (ipykernel)",
   "language": "python",
   "name": "python3"
  },
  "language_info": {
   "codemirror_mode": {
    "name": "ipython",
    "version": 3
   },
   "file_extension": ".py",
   "mimetype": "text/x-python",
   "name": "python",
   "nbconvert_exporter": "python",
   "pygments_lexer": "ipython3",
   "version": "3.9.13"
  }
 },
 "nbformat": 4,
 "nbformat_minor": 5
}
