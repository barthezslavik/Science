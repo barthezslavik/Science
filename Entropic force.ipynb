{
 "cells": [
  {
   "cell_type": "code",
   "execution_count": 1,
   "id": "fa031a6c",
   "metadata": {},
   "outputs": [
    {
     "name": "stdout",
     "output_type": "stream",
     "text": [
      "96508.00000000001\n"
     ]
    }
   ],
   "source": [
    "import random\n",
    "\n",
    "# Define a function to simulate the random movement of particles in a system\n",
    "def simulate_particle_movement(num_particles, num_steps):\n",
    "  positions = [0] * num_particles\n",
    "  for step in range(num_steps):\n",
    "    for i in range(num_particles):\n",
    "      # Randomly move each particle left or right\n",
    "      if random.random() < 0.5:\n",
    "        positions[i] -= 1\n",
    "      else:\n",
    "        positions[i] += 1\n",
    "  return positions\n",
    "\n",
    "# Define a function to calculate the entropic force\n",
    "def calculate_entropic_force(positions):\n",
    "  # The entropic force is proportional to the variance in particle positions\n",
    "  return sum([(pos - sum(positions) / len(positions))**2 for pos in positions])\n",
    "\n",
    "# Simulate the movement of 100 particles for 1000 time steps\n",
    "positions = simulate_particle_movement(100, 1000)\n",
    "\n",
    "# Calculate and print the entropic force\n",
    "entropic_force = calculate_entropic_force(positions)\n",
    "print(entropic_force)"
   ]
  },
  {
   "cell_type": "code",
   "execution_count": 2,
   "id": "ccb7ebf5",
   "metadata": {},
   "outputs": [
    {
     "name": "stdout",
     "output_type": "stream",
     "text": [
      "5.652993216567556\n"
     ]
    }
   ],
   "source": [
    "import math\n",
    "import random\n",
    "\n",
    "# Define the mass and length of the pendulum\n",
    "m = 1.0  # mass (kg)\n",
    "l = 1.0  # length (m)\n",
    "\n",
    "# Define the initial angle of the pendulum\n",
    "theta_0 = math.radians(30)  # angle (radians)\n",
    "\n",
    "# Define the time step for the simulation\n",
    "dt = 0.01  # time step (s)\n",
    "\n",
    "# Define a function to simulate the movement of the pendulum\n",
    "def simulate_pendulum_movement(theta, omega):\n",
    "  # Calculate the acceleration of the pendulum\n",
    "  alpha = -(9.81 / l) * math.sin(theta)\n",
    "\n",
    "  # Update the angular position and velocity of the pendulum\n",
    "  theta += omega * dt\n",
    "  omega += alpha * dt\n",
    "\n",
    "  # Add random noise to the angular position and velocity\n",
    "  theta += random.gauss(0, 0.01)\n",
    "  omega += random.gauss(0, 0.01)\n",
    "\n",
    "  return theta, omega\n",
    "\n",
    "# Define a function to calculate the entropic force\n",
    "def calculate_entropic_force(theta, omega):\n",
    "  # The entropic force is proportional to the sum of the variances\n",
    "  # in the angular position and velocity of the pendulum\n",
    "  return theta**2 + omega**2\n",
    "\n",
    "# Set the initial conditions for the pendulum\n",
    "theta = theta_0\n",
    "omega = 0.0\n",
    "\n",
    "# Simulate the movement of the pendulum for 1000 time steps\n",
    "for i in range(1000):\n",
    "  theta, omega = simulate_pendulum_movement(theta, omega)\n",
    "\n",
    "# Calculate and print the entropic force\n",
    "entropic_force = calculate_entropic_force(theta, omega)\n",
    "print(entropic_force)"
   ]
  },
  {
   "cell_type": "code",
   "execution_count": null,
   "id": "b36e12a0",
   "metadata": {},
   "outputs": [],
   "source": []
  }
 ],
 "metadata": {
  "kernelspec": {
   "display_name": "Python 3 (ipykernel)",
   "language": "python",
   "name": "python3"
  },
  "language_info": {
   "codemirror_mode": {
    "name": "ipython",
    "version": 3
   },
   "file_extension": ".py",
   "mimetype": "text/x-python",
   "name": "python",
   "nbconvert_exporter": "python",
   "pygments_lexer": "ipython3",
   "version": "3.9.13"
  }
 },
 "nbformat": 4,
 "nbformat_minor": 5
}
