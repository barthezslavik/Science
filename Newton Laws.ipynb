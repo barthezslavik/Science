{
 "cells": [
  {
   "cell_type": "code",
   "execution_count": 4,
   "id": "ba0cae03",
   "metadata": {},
   "outputs": [
    {
     "ename": "error",
     "evalue": "display Surface quit",
     "output_type": "error",
     "traceback": [
      "\u001b[0;31m---------------------------------------------------------------------------\u001b[0m",
      "\u001b[0;31merror\u001b[0m                                     Traceback (most recent call last)",
      "Cell \u001b[0;32mIn[4], line 35\u001b[0m\n\u001b[1;32m     32\u001b[0m velocity[\u001b[38;5;241m1\u001b[39m] \u001b[38;5;241m+\u001b[39m\u001b[38;5;241m=\u001b[39m acceleration[\u001b[38;5;241m1\u001b[39m]\n\u001b[1;32m     34\u001b[0m \u001b[38;5;66;03m# Draw the ball on the screen\u001b[39;00m\n\u001b[0;32m---> 35\u001b[0m \u001b[43mscreen\u001b[49m\u001b[38;5;241;43m.\u001b[39;49m\u001b[43mfill\u001b[49m\u001b[43m(\u001b[49m\u001b[43m(\u001b[49m\u001b[38;5;241;43m0\u001b[39;49m\u001b[43m,\u001b[49m\u001b[43m \u001b[49m\u001b[38;5;241;43m0\u001b[39;49m\u001b[43m,\u001b[49m\u001b[43m \u001b[49m\u001b[38;5;241;43m0\u001b[39;49m\u001b[43m)\u001b[49m\u001b[43m)\u001b[49m\n\u001b[1;32m     36\u001b[0m pygame\u001b[38;5;241m.\u001b[39mdraw\u001b[38;5;241m.\u001b[39mcircle(screen, color, position, size)\n\u001b[1;32m     37\u001b[0m pygame\u001b[38;5;241m.\u001b[39mdisplay\u001b[38;5;241m.\u001b[39mflip()\n",
      "\u001b[0;31merror\u001b[0m: display Surface quit"
     ]
    }
   ],
   "source": [
    "# Import the Pygame library\n",
    "import pygame\n",
    "\n",
    "# Define the ball's initial position, velocity, and acceleration\n",
    "position = [100, 100]\n",
    "velocity = [2, 1]\n",
    "acceleration = [0, 0]\n",
    "\n",
    "# Set the ball's size and color\n",
    "size = 10\n",
    "color = (255, 0, 0)\n",
    "\n",
    "# Create the Pygame window and set its title\n",
    "pygame.init()\n",
    "screen = pygame.display.set_mode([200, 200])\n",
    "pygame.display.set_caption('Ball Simulation')\n",
    "\n",
    "# Create a clock to control the frame rate\n",
    "clock = pygame.time.Clock()\n",
    "\n",
    "# Run the simulation loop\n",
    "while True:\n",
    "    # Check for events (e.g. quit)\n",
    "    for event in pygame.event.get():\n",
    "        if event.type == pygame.QUIT:\n",
    "            pygame.quit()\n",
    "\n",
    "    # Update the ball's position and velocity\n",
    "    position[0] += velocity[0]\n",
    "    position[1] += velocity[1]\n",
    "    velocity[0] += acceleration[0]\n",
    "    velocity[1] += acceleration[1]\n",
    "\n",
    "    # Draw the ball on the screen\n",
    "    screen.fill((0, 0, 0))\n",
    "    pygame.draw.circle(screen, color, position, size)\n",
    "    pygame.display.flip()\n",
    "\n",
    "    # Limit the frame rate\n",
    "    clock.tick(60)"
   ]
  },
  {
   "cell_type": "code",
   "execution_count": null,
   "id": "69f8d121",
   "metadata": {},
   "outputs": [],
   "source": []
  }
 ],
 "metadata": {
  "kernelspec": {
   "display_name": "Python 3 (ipykernel)",
   "language": "python",
   "name": "python3"
  },
  "language_info": {
   "codemirror_mode": {
    "name": "ipython",
    "version": 3
   },
   "file_extension": ".py",
   "mimetype": "text/x-python",
   "name": "python",
   "nbconvert_exporter": "python",
   "pygments_lexer": "ipython3",
   "version": "3.9.13"
  }
 },
 "nbformat": 4,
 "nbformat_minor": 5
}
