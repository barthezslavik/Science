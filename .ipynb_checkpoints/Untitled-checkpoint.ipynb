{
 "cells": [
  {
   "cell_type": "code",
   "execution_count": 2,
   "id": "4ee7a93d",
   "metadata": {},
   "outputs": [
    {
     "ename": "ModuleNotFoundError",
     "evalue": "No module named 'astropy'",
     "output_type": "error",
     "traceback": [
      "\u001b[0;31m---------------------------------------------------------------------------\u001b[0m",
      "\u001b[0;31mModuleNotFoundError\u001b[0m                       Traceback (most recent call last)",
      "Input \u001b[0;32mIn [2]\u001b[0m, in \u001b[0;36m<cell line: 2>\u001b[0;34m()\u001b[0m\n\u001b[1;32m      1\u001b[0m \u001b[38;5;66;03m# Import the necessary modules from astropy\u001b[39;00m\n\u001b[0;32m----> 2\u001b[0m \u001b[38;5;28;01mfrom\u001b[39;00m \u001b[38;5;21;01mastropy\u001b[39;00m \u001b[38;5;28;01mimport\u001b[39;00m units \u001b[38;5;28;01mas\u001b[39;00m u\n\u001b[1;32m      3\u001b[0m \u001b[38;5;28;01mfrom\u001b[39;00m \u001b[38;5;21;01mastropy\u001b[39;00m\u001b[38;5;21;01m.\u001b[39;00m\u001b[38;5;21;01mcosmology\u001b[39;00m \u001b[38;5;28;01mimport\u001b[39;00m Planck15\n\u001b[1;32m      5\u001b[0m \u001b[38;5;66;03m# Compute the age of the universe using the Planck15 cosmological model\u001b[39;00m\n",
      "\u001b[0;31mModuleNotFoundError\u001b[0m: No module named 'astropy'"
     ]
    }
   ],
   "source": [
    "# Import the necessary modules from astropy\n",
    "from astropy import units as u\n",
    "from astropy.cosmology import Planck15\n",
    "\n",
    "# Compute the age of the universe using the Planck15 cosmological model\n",
    "age = Planck15.age(0)\n",
    "\n",
    "# Print the age of the universe in years\n",
    "print(age.to(u.year))"
   ]
  },
  {
   "cell_type": "code",
   "execution_count": null,
   "id": "ac8f90ac",
   "metadata": {},
   "outputs": [],
   "source": []
  }
 ],
 "metadata": {
  "kernelspec": {
   "display_name": "Python 3 (ipykernel)",
   "language": "python",
   "name": "python3"
  },
  "language_info": {
   "codemirror_mode": {
    "name": "ipython",
    "version": 3
   },
   "file_extension": ".py",
   "mimetype": "text/x-python",
   "name": "python",
   "nbconvert_exporter": "python",
   "pygments_lexer": "ipython3",
   "version": "3.9.13"
  }
 },
 "nbformat": 4,
 "nbformat_minor": 5
}
