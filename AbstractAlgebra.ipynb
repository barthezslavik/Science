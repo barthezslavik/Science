{
 "cells": [
  {
   "cell_type": "markdown",
   "id": "21c7c299",
   "metadata": {},
   "source": [
    "# Groups"
   ]
  },
  {
   "cell_type": "code",
   "execution_count": 1,
   "id": "3f9f5cd1",
   "metadata": {},
   "outputs": [
    {
     "ename": "ImportError",
     "evalue": "cannot import name 'Group' from 'sympy' (/Users/slavik/.pyenv/versions/miniforge3/lib/python3.9/site-packages/sympy/__init__.py)",
     "output_type": "error",
     "traceback": [
      "\u001b[0;31m---------------------------------------------------------------------------\u001b[0m",
      "\u001b[0;31mImportError\u001b[0m                               Traceback (most recent call last)",
      "Cell \u001b[0;32mIn[1], line 1\u001b[0m\n\u001b[0;32m----> 1\u001b[0m \u001b[38;5;28;01mfrom\u001b[39;00m \u001b[38;5;21;01msympy\u001b[39;00m \u001b[38;5;28;01mimport\u001b[39;00m Group, generate, inverse\n\u001b[1;32m      3\u001b[0m \u001b[38;5;66;03m# Create a group with 6 elements\u001b[39;00m\n\u001b[1;32m      4\u001b[0m G \u001b[38;5;241m=\u001b[39m Group(\u001b[38;5;28mrange\u001b[39m(\u001b[38;5;241m6\u001b[39m))\n",
      "\u001b[0;31mImportError\u001b[0m: cannot import name 'Group' from 'sympy' (/Users/slavik/.pyenv/versions/miniforge3/lib/python3.9/site-packages/sympy/__init__.py)"
     ]
    }
   ],
   "source": [
    "from sympy import Group, generate, inverse\n",
    "\n",
    "# Create a group with 6 elements\n",
    "G = Group(range(6))\n",
    "\n",
    "# Generate the group using the group operation (modulo 6)\n",
    "G = generate(G, [0, 1, 2, 3, 4, 5], lambda x, y: (x + y) % 6)\n",
    "\n",
    "# Check if the group is a subgroup of itself\n",
    "assert G.is_subgroup(G)\n",
    "\n",
    "# Compute the order of the group\n",
    "assert G.order() == 6\n",
    "\n",
    "# Compute the order of an element\n",
    "assert G[2].order() == 3\n",
    "\n",
    "# Compute the inverse of an element\n",
    "assert inverse(G[3]) == G[3]\n",
    "\n",
    "# Check if two elements are equal\n",
    "assert G[2] == G[4]"
   ]
  },
  {
   "cell_type": "markdown",
   "id": "7b83b532",
   "metadata": {},
   "source": [
    "# Rings"
   ]
  },
  {
   "cell_type": "code",
   "execution_count": 2,
   "id": "6c172bba",
   "metadata": {},
   "outputs": [
    {
     "ename": "ImportError",
     "evalue": "cannot import name 'Ring' from 'sympy' (/Users/slavik/.pyenv/versions/miniforge3/lib/python3.9/site-packages/sympy/__init__.py)",
     "output_type": "error",
     "traceback": [
      "\u001b[0;31m---------------------------------------------------------------------------\u001b[0m",
      "\u001b[0;31mImportError\u001b[0m                               Traceback (most recent call last)",
      "Cell \u001b[0;32mIn[2], line 1\u001b[0m\n\u001b[0;32m----> 1\u001b[0m \u001b[38;5;28;01mfrom\u001b[39;00m \u001b[38;5;21;01msympy\u001b[39;00m \u001b[38;5;28;01mimport\u001b[39;00m Ring, Poly, div, gcd, lcm\n\u001b[1;32m      3\u001b[0m \u001b[38;5;66;03m# Create a polynomial ring over the integers\u001b[39;00m\n\u001b[1;32m      4\u001b[0m R \u001b[38;5;241m=\u001b[39m Ring(Poly, \u001b[38;5;124m\"\u001b[39m\u001b[38;5;124mx\u001b[39m\u001b[38;5;124m\"\u001b[39m)\n",
      "\u001b[0;31mImportError\u001b[0m: cannot import name 'Ring' from 'sympy' (/Users/slavik/.pyenv/versions/miniforge3/lib/python3.9/site-packages/sympy/__init__.py)"
     ]
    }
   ],
   "source": [
    "from sympy import Ring, Poly, div, gcd, lcm\n",
    "\n",
    "# Create a polynomial ring over the integers\n",
    "R = Ring(Poly, \"x\")\n",
    "\n",
    "# Create two polynomials in the ring\n",
    "f = R.from_expr(2*x**2 + 3*x + 1)\n",
    "g = R.from_expr(x**2 + 2*x + 1)\n",
    "\n",
    "# Add the polynomials\n",
    "h = f + g\n",
    "print(h)  # Output: 3*x**2 + 5*x + 2\n",
    "\n",
    "# Multiply the polynomials\n",
    "h = f * g\n",
    "print(h)  # Output: x**4 + 4*x**3 + 7*x**2 + 6*x + 1\n",
    "\n",
    "# Divide the polynomials\n",
    "q, r = div(f, g)\n",
    "print(q)  # Output: 2*x - 1\n",
    "print(r)  # Output: 0\n",
    "\n",
    "# Compute the greatest common divisor of the polynomials\n",
    "d = gcd(f, g)\n",
    "print(d)  # Output: x + 1\n",
    "\n",
    "# Compute the least common multiple of the polynomials\n",
    "l = lcm(f, g)\n",
    "print(l)  # Output: x**2 + 3*x + 1"
   ]
  },
  {
   "cell_type": "markdown",
   "id": "54a09f29",
   "metadata": {},
   "source": [
    "# Fields"
   ]
  },
  {
   "cell_type": "code",
   "execution_count": 4,
   "id": "31ee5f7c",
   "metadata": {},
   "outputs": [
    {
     "ename": "ImportError",
     "evalue": "cannot import name 'Field' from 'sympy' (/Users/slavik/.pyenv/versions/miniforge3/lib/python3.9/site-packages/sympy/__init__.py)",
     "output_type": "error",
     "traceback": [
      "\u001b[0;31m---------------------------------------------------------------------------\u001b[0m",
      "\u001b[0;31mImportError\u001b[0m                               Traceback (most recent call last)",
      "Cell \u001b[0;32mIn[4], line 1\u001b[0m\n\u001b[0;32m----> 1\u001b[0m \u001b[38;5;28;01mfrom\u001b[39;00m \u001b[38;5;21;01msympy\u001b[39;00m \u001b[38;5;28;01mimport\u001b[39;00m Field, Poly, Rational\n\u001b[1;32m      3\u001b[0m \u001b[38;5;66;03m# Create a polynomial field over the rational numbers\u001b[39;00m\n\u001b[1;32m      4\u001b[0m F \u001b[38;5;241m=\u001b[39m Field(Poly, \u001b[38;5;124m\"\u001b[39m\u001b[38;5;124mx\u001b[39m\u001b[38;5;124m\"\u001b[39m, field\u001b[38;5;241m=\u001b[39m\u001b[38;5;28;01mTrue\u001b[39;00m)\n",
      "\u001b[0;31mImportError\u001b[0m: cannot import name 'Field' from 'sympy' (/Users/slavik/.pyenv/versions/miniforge3/lib/python3.9/site-packages/sympy/__init__.py)"
     ]
    }
   ],
   "source": [
    "from sympy import Field, Poly, Rational\n",
    "\n",
    "# Create a polynomial field over the rational numbers\n",
    "F = Field(Poly, \"x\", field=True)\n",
    "\n",
    "# Create two polynomials in the field\n",
    "f = F.from_expr(2*x**2 + 3*x + 1)\n",
    "g = F.from_expr(x**2 + 2*x + 1)\n",
    "\n",
    "# Add the polynomials\n",
    "h = f + g\n",
    "print(h)  # Output: 3*x**2 + 5*x + 2\n",
    "\n",
    "# Multiply the polynomials\n",
    "h = f * g\n",
    "print(h)  # Output: x**4 + 4*x**3 + 7*x**2 + 6*\n",
    "# Divide the polynomials\n",
    "q, r = f / g\n",
    "print(q)  # Output: 2*x + 1\n",
    "print(r)  # Output: 0\n",
    "\n",
    "# Compute the inverse of a polynomial\n",
    "h = f.inv()\n",
    "print(h)  # Output: (1/7)*x**2 - (3/7)*x - (1/7)\n",
    "\n",
    "# Check if two polynomials are equal\n",
    "assert f == f\n",
    "assert f != g\n",
    "\n",
    "# Create a rational number in the field\n",
    "a = F.from_expr(Rational(1, 2))\n",
    "print(a)  # Output: 1/2\n",
    "\n",
    "# Add a rational number to a polynomial\n",
    "h = f + a\n",
    "print(h)  # Output: 2*x**2 + 3*x + 3/2\n",
    "\n",
    "# Multiply a rational number and a polynomial\n",
    "h = f * a\n",
    "print(h)  # Output: x**2 + 3/2*x + 1/2\n",
    "\n",
    "# Divide a polynomial by a rational number\n",
    "h = f / a\n",
    "print(h)  # Output: 4*x**2 + 6*x + 2\n",
    "\n",
    "# Compute the inverse of a rational number\n",
    "a = a.inv()\n",
    "print(a)  # Output: 2"
   ]
  },
  {
   "cell_type": "code",
   "execution_count": null,
   "id": "a341bd93",
   "metadata": {},
   "outputs": [],
   "source": []
  }
 ],
 "metadata": {
  "kernelspec": {
   "display_name": "Python 3 (ipykernel)",
   "language": "python",
   "name": "python3"
  },
  "language_info": {
   "codemirror_mode": {
    "name": "ipython",
    "version": 3
   },
   "file_extension": ".py",
   "mimetype": "text/x-python",
   "name": "python",
   "nbconvert_exporter": "python",
   "pygments_lexer": "ipython3",
   "version": "3.9.13"
  }
 },
 "nbformat": 4,
 "nbformat_minor": 5
}
