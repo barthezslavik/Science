{
 "cells": [
  {
   "cell_type": "code",
   "execution_count": 5,
   "id": "fedfc467",
   "metadata": {},
   "outputs": [],
   "source": [
    "class Category:\n",
    "    # Define the objects of the category\n",
    "    objects = ['A', 'B', 'C']\n",
    "\n",
    "    # Define the arrows of the category\n",
    "    arrows = [('A', 'B'), ('B', 'C')]\n",
    "\n",
    "    # Define the composition rule for the arrows\n",
    "    def compose(f, g):\n",
    "        # Check if the composition is defined\n",
    "        if f[1] == g[0]:\n",
    "            # Return the composite arrow\n",
    "            return (f[0], g[1])\n",
    "        else:\n",
    "            # Return None if the composition is not defined\n",
    "            return None"
   ]
  },
  {
   "cell_type": "code",
   "execution_count": 8,
   "id": "8e7f3c84",
   "metadata": {},
   "outputs": [],
   "source": [
    "Category1 = Category()\n",
    "Category2 = Category()"
   ]
  },
  {
   "cell_type": "code",
   "execution_count": 9,
   "id": "2eafdf70",
   "metadata": {},
   "outputs": [],
   "source": [
    "class Functor:\n",
    "    # Define the source and target categories\n",
    "    source = Category1\n",
    "    target = Category2\n",
    "\n",
    "    # Define the mapping function for the functor\n",
    "    def map(x):\n",
    "        # Check if the object is in the source category\n",
    "        if x in source.objects:\n",
    "            # Return the mapped object in the target category\n",
    "            return target.objects[x]\n",
    "        else:\n",
    "            # Return None if the object is not in the source category\n",
    "            return None\n",
    "\n",
    "    # Define the mapping function for the arrows of the functor\n",
    "    def map_arrow(f):\n",
    "        # Check if the arrow is in the source category\n",
    "        if f in source.arrows:\n",
    "            # Return the mapped arrow in the target category\n",
    "            return target.arrows[f]\n",
    "        else:\n",
    "            # Return None if the arrow is not in the source category\n",
    "            return None\n",
    "\n",
    "    # Define the composition rule for the functor\n",
    "    def compose(F, G):\n",
    "        # Compute the composite functor using the mapping functions\n",
    "        return Functor(map(F.map), map(G.map))"
   ]
  },
  {
   "cell_type": "code",
   "execution_count": null,
   "id": "cef3481f",
   "metadata": {},
   "outputs": [],
   "source": []
  },
  {
   "cell_type": "code",
   "execution_count": null,
   "id": "c3c32f89",
   "metadata": {},
   "outputs": [],
   "source": []
  }
 ],
 "metadata": {
  "kernelspec": {
   "display_name": "Python 3 (ipykernel)",
   "language": "python",
   "name": "python3"
  },
  "language_info": {
   "codemirror_mode": {
    "name": "ipython",
    "version": 3
   },
   "file_extension": ".py",
   "mimetype": "text/x-python",
   "name": "python",
   "nbconvert_exporter": "python",
   "pygments_lexer": "ipython3",
   "version": "3.9.13"
  }
 },
 "nbformat": 4,
 "nbformat_minor": 5
}
