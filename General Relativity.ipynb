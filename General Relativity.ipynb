{
 "cells": [
  {
   "cell_type": "markdown",
   "id": "16e6c0f3",
   "metadata": {},
   "source": [
    "# Gravitational lensing"
   ]
  },
  {
   "cell_type": "code",
   "execution_count": 1,
   "id": "307a391f",
   "metadata": {},
   "outputs": [
    {
     "ename": "SyntaxError",
     "evalue": "positional argument follows keyword argument unpacking (4002453022.py, line 33)",
     "output_type": "error",
     "traceback": [
      "\u001b[0;36m  Cell \u001b[0;32mIn[1], line 33\u001b[0;36m\u001b[0m\n\u001b[0;31m    x_i, y_i = fsolve( **lens_equation, (0, 0), args=(x_s, y_s, x_o, y_o, mass, distance))\u001b[0m\n\u001b[0m                                                                                         ^\u001b[0m\n\u001b[0;31mSyntaxError\u001b[0m\u001b[0;31m:\u001b[0m positional argument follows keyword argument unpacking\n"
     ]
    }
   ],
   "source": [
    "# Import the necessary modules\n",
    "import numpy as np\n",
    "from scipy.optimize import fsolve\n",
    "\n",
    "# Define the mass of the lensing object\n",
    "mass = 1e12  # kg\n",
    "\n",
    "# Define the distance to the lensing object\n",
    "distance = 1e6  # m\n",
    "\n",
    "# Define the position of the source object\n",
    "x_s = 1e3  # m\n",
    "y_s = 1e3  # m\n",
    "\n",
    "# Define the position of the observer\n",
    "x_o = 0  # m\n",
    "y_o = 0  # m\n",
    "\n",
    "# Compute the deflection angle of the light using the lens equation\n",
    "def lens_equation(x_i, y_i, x_s, y_s, x_o, y_o, mass, distance):\n",
    "    # Compute the distances between the objects\n",
    "    d_si = np.sqrt((x_i - x_s) ** 2 + (y_i - y_s) ** 2)\n",
    "    d_io = np.sqrt((x_i - x_o) ** 2 + (y_i - y_o) ** 2)\n",
    "    d_so = np.sqrt((x_s - x_o) ** 2 + (y_s - y_o) ** 2)\n",
    "\n",
    "    # Compute the deflection angle using the lens equation\n",
    "    alpha = 4 * np.pi * mass / distance * (d_si - d_io) / d_so\n",
    "\n",
    "    # Return the deflection angle\n",
    "    return alpha\n",
    "\n",
    "# Solve for the position of the image using the lens equation\n",
    "x_i, y_i = fsolve( **lens_equation, (0, 0), args=(x_s, y_s, x_o, y_o, mass, distance))\n",
    "\n",
    "# Print the position of the image\n",
    "print(f'x_i = {x_i:.3f} m, y_i = {y_i:.3f} m')"
   ]
  },
  {
   "cell_type": "markdown",
   "id": "76ae1399",
   "metadata": {},
   "source": [
    "# Time dilation"
   ]
  },
  {
   "cell_type": "code",
   "execution_count": null,
   "id": "2e3e6bad",
   "metadata": {},
   "outputs": [],
   "source": [
    "# Import the necessary modules\n",
    "import numpy as np\n",
    "\n",
    "# Define the speed of light\n",
    "c = 3e8  # m/s\n",
    "\n",
    "# Define the gravitational potential of the massive object\n",
    "phi = 1e-6  # m^2/s^2\n",
    "\n",
    "# Define the time elapsed on the surface of the massive object\n",
    "t_0 = 1  # s\n",
    "\n",
    "# Compute the time dilation using the gravitational potential\n",
    "t = t_0 / np.sqrt(1 - 2 * phi / c**2)\n",
    "\n",
    "# Print the time dilation\n",
    "print(f't = {t:.3f} s')"
   ]
  },
  {
   "cell_type": "markdown",
   "id": "442018f1",
   "metadata": {},
   "source": [
    "# Gravitational redshift"
   ]
  },
  {
   "cell_type": "code",
   "execution_count": 2,
   "id": "4cfe18a1",
   "metadata": {},
   "outputs": [
    {
     "name": "stdout",
     "output_type": "stream",
     "text": [
      "nu = 1.000e+14 Hz\n"
     ]
    }
   ],
   "source": [
    "# Import the necessary modules\n",
    "import numpy as np\n",
    "\n",
    "# Define the speed of light\n",
    "c = 3e8  # m/s\n",
    "\n",
    "# Define the gravitational potential of the massive object\n",
    "phi = 1e-6  # m^2/s^2\n",
    "\n",
    "# Define the frequency of the light emitted from the surface of the massive object\n",
    "nu_0 = 1e14  # Hz\n",
    "\n",
    "# Compute the gravitational redshift using the gravitational potential\n",
    "nu = nu_0 * np.sqrt(1 - 2 * phi / c**2)\n",
    "\n",
    "# Print the gravitational redshift\n",
    "print(f'nu = {nu:.3e} Hz')"
   ]
  },
  {
   "cell_type": "code",
   "execution_count": null,
   "id": "1a7ebc42",
   "metadata": {},
   "outputs": [],
   "source": []
  }
 ],
 "metadata": {
  "kernelspec": {
   "display_name": "Python 3 (ipykernel)",
   "language": "python",
   "name": "python3"
  },
  "language_info": {
   "codemirror_mode": {
    "name": "ipython",
    "version": 3
   },
   "file_extension": ".py",
   "mimetype": "text/x-python",
   "name": "python",
   "nbconvert_exporter": "python",
   "pygments_lexer": "ipython3",
   "version": "3.9.13"
  }
 },
 "nbformat": 4,
 "nbformat_minor": 5
}
